{
 "cells": [
  {
   "cell_type": "markdown",
   "metadata": {},
   "source": [
    "This is sample code for Plotting u"
   ]
  },
  {
   "cell_type": "code",
   "execution_count": null,
   "metadata": {},
   "outputs": [],
   "source": [
    "import numpy as np\n",
    "x = np.linspace(0,6,100)\n",
    "y = np.sin(x)\n",
    "z = np.cos(x)\n",
    "\n",
    "import matplotlib.pyplot as plt\n",
    "plt.plot(x,y,'r--',linewidth=3)\n",
    "plt.plot(x,z,'k:',linewidth=2)\n",
    "plt.legend(['y','z'])\n",
    "plt.xlabel('x')\n",
    "plt.ylabel('values')\n",
    "plt.xlim([0, 3])\n",
    "plt.ylim([-1.5, 1.5])\n",
    "plt.savefig('myFigure.png')\n",
    "plt.savefig('myFigure.eps')\n",
    "plt.show()"
   ]
  }
 ],
 "metadata": {
  "kernelspec": {
   "display_name": "Python 3",
   "language": "python",
   "name": "python3"
  },
  "language_info": {
   "codemirror_mode": {
    "name": "ipython",
    "version": 3
   },
   "file_extension": ".py",
   "mimetype": "text/x-python",
   "name": "python",
   "nbconvert_exporter": "python",
   "pygments_lexer": "ipython3",
   "version": "3.8.5"
  }
 },
 "nbformat": 4,
 "nbformat_minor": 4
}
